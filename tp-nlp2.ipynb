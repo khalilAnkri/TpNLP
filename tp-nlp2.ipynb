{
 "cells": [
  {
   "cell_type": "markdown",
   "metadata": {},
   "source": [
    "Word Vector du mot Morocco "
   ]
  },
  {
   "cell_type": "code",
   "execution_count": 16,
   "metadata": {},
   "outputs": [
    {
     "name": "stdout",
     "output_type": "stream",
     "text": [
      "Représentation vectorielle de 'Morocco': \n",
      " [ 6.8874359e-03 -1.3110678e-03  7.9546412e-03 -9.3909288e-03\n",
      " -8.0347154e-03 -7.0667728e-03 -3.8001379e-03  5.6636897e-03\n",
      " -4.0698368e-03 -8.4624896e-03  8.4324647e-03 -3.9533512e-03\n",
      "  8.5394401e-03 -4.7848714e-03  3.9029864e-03  4.7578234e-03\n",
      "  2.6526551e-03 -3.1224869e-03  2.6540903e-03 -8.8478187e-03\n",
      " -2.7333288e-03 -2.6975551e-03  7.5113117e-03 -3.5833050e-03\n",
      " -6.7012603e-03  4.3703495e-03 -5.4684893e-04 -3.7011169e-03\n",
      "  6.5741390e-03  3.7779398e-03 -3.6308740e-03  7.8545522e-04\n",
      "  9.3921134e-03  7.4658687e-03  6.2426650e-03  4.9250894e-03\n",
      "  2.5276747e-03 -2.1859205e-03 -6.6479682e-03 -6.6942407e-04\n",
      " -1.5588196e-03 -7.9472671e-04 -6.4619440e-03  7.4400646e-03\n",
      " -6.2900041e-03 -7.4804085e-03 -2.8236371e-03 -1.5444875e-03\n",
      " -7.3871622e-03  7.0293277e-04 -5.0957622e-03 -1.3230125e-03\n",
      " -7.3489989e-03  2.0424679e-03  3.1206773e-03  7.4031428e-05\n",
      " -5.4510431e-03 -1.7649601e-03  6.8050702e-03  3.9512091e-03\n",
      " -8.8145807e-03 -3.5379836e-03  2.4350174e-03  1.8816820e-03\n",
      " -9.8212864e-03  4.7275196e-03 -8.4565403e-03 -7.0340834e-03\n",
      "  2.9445230e-03 -3.1760572e-03  3.3488504e-03  9.0745930e-03\n",
      " -3.3744250e-03  9.2513906e-03  1.9388354e-03  1.0040345e-02\n",
      "  5.8356402e-03 -9.0398602e-03 -3.7229625e-03  6.5300488e-03\n",
      "  5.3845705e-03  8.8152392e-03  6.7800470e-03  8.3031934e-03\n",
      " -1.0118434e-02  4.1574021e-03 -4.7880122e-03  3.8111350e-03\n",
      "  6.2472392e-03  4.2263861e-03  7.7759712e-03  1.6479667e-03\n",
      " -1.2773476e-03  5.7089664e-03 -4.9725510e-03  2.2643480e-04\n",
      "  9.7752269e-03 -5.5930181e-03  3.9363541e-03 -8.1486916e-03]\n"
     ]
    }
   ],
   "source": [
    "from gensim.models import Word2Vec\n",
    "from nltk.tokenize import word_tokenize\n",
    "import nltk\n",
    "\n",
    "\n",
    "\n",
    "with open('text', 'r') as file:\n",
    "    text = file.read()\n",
    "\n",
    "\n",
    "tokens = [word_tokenize(sent) for sent in nltk.sent_tokenize(text)]\n",
    "\n",
    "model = Word2Vec(tokens, min_count=1, vector_size=100)\n",
    "\n",
    "\n",
    "word_vector = model.wv['Morocco']\n",
    "print(\"Représentation vectorielle de 'Morocco': \\n\", word_vector)\n",
    "\n"
   ]
  },
  {
   "cell_type": "markdown",
   "metadata": {},
   "source": [
    "La similarité entre les mots \"Morocco\" et \"Marrakech\""
   ]
  },
  {
   "cell_type": "code",
   "execution_count": 14,
   "metadata": {},
   "outputs": [
    {
     "name": "stdout",
     "output_type": "stream",
     "text": [
      "Similarité entre 'Morocco' et 'Marrakech': 0.120106064\n"
     ]
    }
   ],
   "source": [
    "\n",
    "from gensim.models import Word2Vec\n",
    "from nltk.tokenize import word_tokenize\n",
    "import nltk\n",
    "\n",
    "\n",
    "\n",
    "with open('text', 'r') as file:\n",
    "    text = file.read()\n",
    "\n",
    "\n",
    "tokens = [word_tokenize(sent) for sent in nltk.sent_tokenize(text)]\n",
    "\n",
    "model = Word2Vec(tokens, min_count=1, vector_size=100)\n",
    "\n",
    "\n",
    "\n",
    "\n",
    "\n",
    "\n",
    "similarity = model.wv.similarity('Morocco', 'Marrakech')\n",
    "print(\"Similarité entre 'Morocco' et 'Marrakech':\", similarity)\n",
    "\n",
    "\n"
   ]
  },
  {
   "cell_type": "markdown",
   "metadata": {},
   "source": [
    "Les mots les plus similaires au mot \"Morocco\" "
   ]
  },
  {
   "cell_type": "code",
   "execution_count": 17,
   "metadata": {},
   "outputs": [
    {
     "name": "stdout",
     "output_type": "stream",
     "text": [
      "Mots contextuels pour 'Morocco':\n",
      " [(':', 0.2722472548484802), ('southeast', 0.24113473296165466), ('World', 0.2237333059310913), ('Tradition', 0.2186356484889984), ('proverb', 0.21734635531902313), ('restored', 0.21578475832939148), ('cities', 0.2039029598236084), ('travelers', 0.196873739361763), ('cafes', 0.1824767142534256), ('influences', 0.17823021113872528)]\n"
     ]
    }
   ],
   "source": [
    "from gensim.models import Word2Vec\n",
    "from nltk.tokenize import word_tokenize\n",
    "import nltk\n",
    "\n",
    "\n",
    "\n",
    "with open('text', 'r') as file:\n",
    "    text = file.read()\n",
    "\n",
    "\n",
    "tokens = [word_tokenize(sent) for sent in nltk.sent_tokenize(text)]\n",
    "\n",
    "\n",
    "model = Word2Vec(tokens, min_count=1, vector_size=100)\n",
    "\n",
    "\n",
    "\n",
    "similar_words = model.wv.most_similar('Morocco')\n",
    "print(\"Mots contextuels pour 'Morocco':\\n\", similar_words)\n"
   ]
  }
 ],
 "metadata": {
  "kernelspec": {
   "display_name": "Python 3",
   "language": "python",
   "name": "python3"
  },
  "language_info": {
   "codemirror_mode": {
    "name": "ipython",
    "version": 3
   },
   "file_extension": ".py",
   "mimetype": "text/x-python",
   "name": "python",
   "nbconvert_exporter": "python",
   "pygments_lexer": "ipython3",
   "version": "3.12.2"
  }
 },
 "nbformat": 4,
 "nbformat_minor": 2
}
